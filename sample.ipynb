{
 "cells": [
  {
   "cell_type": "code",
   "execution_count": 1,
   "id": "initial_id",
   "metadata": {
    "ExecuteTime": {
     "end_time": "2023-10-26T15:32:37.219047600Z",
     "start_time": "2023-10-26T15:32:35.791415900Z"
    }
   },
   "outputs": [],
   "source": [
    "import time\n",
    "import numpy as np\n",
    "import pandas as pd\n",
    "import matplotlib.pyplot as plt\n",
    "from IPython.display import display\n",
    "import os\n",
    "import IPython"
   ]
  },
  {
   "cell_type": "code",
   "execution_count": 2,
   "id": "2eac5d5792bb49ac",
   "metadata": {
    "collapsed": false,
    "ExecuteTime": {
     "end_time": "2023-10-26T15:32:37.313205300Z",
     "start_time": "2023-10-26T15:32:37.219047600Z"
    }
   },
   "outputs": [],
   "source": [
    "# load images from the \"images\" dir\n",
    "emotions = [\n",
    "    \"angry\", \n",
    "    \"disgust\", \n",
    "    #\"fear\", \n",
    "    \"happy\", \n",
    "    \"neutral\", \n",
    "    #\"sad\", \n",
    "    #\"surprise\"\n",
    "]\n",
    "images_per_emotion = 20\n",
    "images = {}\n",
    "for emotion in emotions:\n",
    "    files = os.listdir(f\"images/{emotion}\")\n",
    "    for i in range(images_per_emotion):\n",
    "        # read grayscale image\n",
    "        image = plt.imread(f\"images/{emotion}/{files[i]}\", 0)\n",
    "        if emotion not in images:\n",
    "            images[emotion] = []\n",
    "        images[emotion].append(image)"
   ]
  },
  {
   "cell_type": "code",
   "execution_count": 12,
   "outputs": [
    {
     "name": "stdout",
     "output_type": "stream",
     "text": [
      "Total time per session: 4.0 minutes\n",
      "Showing 2 images per trial\n"
     ]
    }
   ],
   "source": [
    "seconds_per_trial = 60\n",
    "seconds_between_trials = 60\n",
    "seconds_per_image = 5\n",
    "trials_with_same_emotion = 6\n",
    "\n",
    "assert seconds_per_trial > seconds_per_image\n",
    "assert seconds_per_trial % seconds_per_image == 0\n",
    "print(f\"Total time per session: {len(emotions) * trials_with_same_emotion * seconds_per_trial / 60} minutes\")\n",
    "print(f\"Showing {seconds_per_trial // seconds_per_image} images per trial\")"
   ],
   "metadata": {
    "collapsed": false,
    "ExecuteTime": {
     "end_time": "2023-10-26T15:38:20.553593400Z",
     "start_time": "2023-10-26T15:38:20.506327800Z"
    }
   },
   "id": "a088b533a3ea951e"
  },
  {
   "cell_type": "code",
   "execution_count": 13,
   "id": "bc811694e621a581",
   "metadata": {
    "collapsed": false,
    "ExecuteTime": {
     "end_time": "2023-10-26T15:38:21.958943400Z",
     "start_time": "2023-10-26T15:38:21.942907100Z"
    }
   },
   "outputs": [],
   "source": [
    "session_measurements = pd.DataFrame(columns=[\"emotion\", \"blood_pressure\", \"heart_rate\"])\n",
    "trial_emotions = []\n",
    "rnd = np.random.Generator(np.random.PCG64())\n",
    "for _ in range(trials_with_same_emotion):\n",
    "    emotion_block = emotions.copy()\n",
    "    rnd.shuffle(emotion_block)\n",
    "    trial_emotions.extend(emotion_block)"
   ]
  },
  {
   "cell_type": "code",
   "execution_count": 14,
   "outputs": [
    {
     "data": {
      "text/plain": "<Figure size 640x480 with 1 Axes>",
      "image/png": "[encoded data removed]"
     },
     "metadata": {},
     "output_type": "display_data"
    },
    {
     "ename": "KeyboardInterrupt",
     "evalue": "",
     "output_type": "error",
     "traceback": [
      "\u001B[1;31m---------------------------------------------------------------------------\u001B[0m",
      "\u001B[1;31mKeyboardInterrupt\u001B[0m                         Traceback (most recent call last)",
      "Cell \u001B[1;32mIn[14], line 28\u001B[0m\n\u001B[0;32m     20\u001B[0m     heart_rate \u001B[38;5;241m=\u001B[39m \u001B[38;5;28minput\u001B[39m(\u001B[38;5;124m\"\u001B[39m\u001B[38;5;124mHeart rate in PR BPM:\u001B[39m\u001B[38;5;124m\"\u001B[39m)\n\u001B[0;32m     21\u001B[0m     session_measurements \u001B[38;5;241m=\u001B[39m pd\u001B[38;5;241m.\u001B[39mconcat([\n\u001B[0;32m     22\u001B[0m         session_measurements, \n\u001B[0;32m     23\u001B[0m         pd\u001B[38;5;241m.\u001B[39mDataFrame(\n\u001B[1;32m   (...)\u001B[0m\n\u001B[0;32m     26\u001B[0m         )\n\u001B[0;32m     27\u001B[0m     ])\n\u001B[1;32m---> 28\u001B[0m     \u001B[43mtime\u001B[49m\u001B[38;5;241;43m.\u001B[39;49m\u001B[43msleep\u001B[49m\u001B[43m(\u001B[49m\u001B[43mseconds_between_trials\u001B[49m\u001B[43m)\u001B[49m\n\u001B[0;32m     29\u001B[0m     IPython\u001B[38;5;241m.\u001B[39mdisplay\u001B[38;5;241m.\u001B[39mclear_output(\u001B[38;5;28;01mFalse\u001B[39;00m)\n\u001B[0;32m     30\u001B[0m \u001B[38;5;28mprint\u001B[39m(\u001B[38;5;124m\"\u001B[39m\u001B[38;5;124mSession finished :)\u001B[39m\u001B[38;5;124m\"\u001B[39m)\n",
      "\u001B[1;31mKeyboardInterrupt\u001B[0m: "
     ]
    }
   ],
   "source": [
    "while len(trial_emotions) > 0:\n",
    "    emotion = trial_emotions.pop()\n",
    "    images_per_trial = seconds_per_trial // seconds_per_image\n",
    "    trial_images = rnd.choice(images[emotion], size=images_per_trial, replace=False)\n",
    "    for image in trial_images:        \n",
    "        fig, ax = plt.subplots()\n",
    "        ax.imshow(image, cmap=\"gray\")\n",
    "        ax.axis(\"off\")\n",
    "        plt.show()\n",
    "        time.sleep(seconds_per_image)\n",
    "        IPython.display.clear_output(False)\n",
    "        \n",
    "    # show black screen\n",
    "    fig, ax = plt.subplots()\n",
    "    ax.imshow(np.zeros_like(trial_images[0]), cmap=\"gray\")\n",
    "    ax.axis(\"off\")\n",
    "    plt.show()\n",
    "    \n",
    "    blood_pressure = input(\"Blood pressure in mmHg:\")\n",
    "    heart_rate = input(\"Heart rate in PR BPM:\")\n",
    "    session_measurements = pd.concat([\n",
    "        session_measurements, \n",
    "        pd.DataFrame(\n",
    "            [[emotion, blood_pressure, heart_rate]], \n",
    "            columns=[\"emotion\", \"blood_pressure\", \"heart_rate\"]\n",
    "        )\n",
    "    ])\n",
    "    time.sleep(seconds_between_trials)\n",
    "    IPython.display.clear_output(False)\n",
    "print(\"Session finished :)\")\n",
    "        "
   ],
   "metadata": {
    "collapsed": false
   },
   "id": "4a3c11585f386df7"
  },
  {
   "cell_type": "code",
   "execution_count": 15,
   "id": "2a7ce0c550309d1b",
   "metadata": {
    "collapsed": false,
    "ExecuteTime": {
     "end_time": "2023-10-26T15:39:06.615930200Z",
     "start_time": "2023-10-26T15:39:06.553429400Z"
    }
   },
   "outputs": [],
   "source": [
    "session_measurements.to_csv(\"session_measurements.csv\", index=False)"
   ]
  },
  {
   "cell_type": "code",
   "execution_count": null,
   "outputs": [],
   "source": [],
   "metadata": {
    "collapsed": false
   },
   "id": "bfc345e9eb9a674c"
  }
 ],
 "metadata": {
  "kernelspec": {
   "display_name": "Python 3 (ipykernel)",
   "language": "python",
   "name": "python3"
  },
  "language_info": {
   "codemirror_mode": {
    "name": "ipython",
    "version": 3
   },
   "file_extension": ".py",
   "mimetype": "text/x-python",
   "name": "python",
   "nbconvert_exporter": "python",
   "pygments_lexer": "ipython3",
   "version": "3.10.12"
  }
 },
 "nbformat": 4,
 "nbformat_minor": 5
}
