{
 "cells": [
  {
   "cell_type": "code",
   "execution_count": 1,
   "id": "initial_id",
   "metadata": {
    "ExecuteTime": {
     "end_time": "2023-10-20T11:54:19.163944Z",
     "start_time": "2023-10-20T11:54:19.155369Z"
    }
   },
   "outputs": [],
   "source": [
    "import time\n",
    "import numpy as np\n",
    "import pandas as pd\n",
    "import matplotlib.pyplot as plt\n",
    "import ipywidgets as widgets\n",
    "from ipywidgets import Button, HBox, VBox\n",
    "from IPython.display import display\n",
    "import os"
   ]
  },
  {
   "cell_type": "code",
   "execution_count": 2,
   "id": "2eac5d5792bb49ac",
   "metadata": {
    "ExecuteTime": {
     "end_time": "2023-10-20T11:37:52.172292Z",
     "start_time": "2023-10-20T11:37:52.022092Z"
    },
    "collapsed": false
   },
   "outputs": [],
   "source": [
    "# load images from the \"images\" dir\n",
    "emotions = [\"angry\", \"disgust\", \"fear\", \"happy\", \"neutral\", \"sad\", \"surprise\"]\n",
    "images_per_emotion = 20\n",
    "images = []\n",
    "labels = []\n",
    "for emotion in emotions:\n",
    "    files = os.listdir(\"images/%s\" % emotion)\n",
    "    for i in range(images_per_emotion):\n",
    "        # read grayscale image\n",
    "        image = plt.imread(\"images/%s/%s\" % (emotion, files[i]), 0)\n",
    "        images.append(image)\n",
    "        labels.append(emotion)\n",
    "        \n",
    "        \n",
    "# scramble the images and labels\n",
    "images = np.array(images)\n",
    "labels = np.array(labels)\n",
    "randomize = np.arange(len(images))\n",
    "np.random.shuffle(randomize)\n",
    "images = images[randomize]\n",
    "labels = labels[randomize]"
   ]
  },
  {
   "cell_type": "code",
   "execution_count": 3,
   "id": "bc811694e621a581",
   "metadata": {
    "ExecuteTime": {
     "end_time": "2023-10-20T11:44:23.768408Z",
     "start_time": "2023-10-20T11:44:23.762590Z"
    },
    "collapsed": false
   },
   "outputs": [],
   "source": [
    "blood_pressure = None\n",
    "heart_rate = None\n",
    "i = 0\n",
    "blood_pressures = []\n",
    "heart_rates = []"
   ]
  },
  {
   "cell_type": "code",
   "execution_count": 73,
   "id": "33e54409d50d0ab9",
   "metadata": {
    "collapsed": false,
    "ExecuteTime": {
     "end_time": "2023-10-20T13:15:46.521878Z",
     "start_time": "2023-10-20T13:15:37.382331Z"
    }
   },
   "outputs": [
    {
     "data": {
      "text/plain": "<Figure size 640x480 with 1 Axes>",
      "image/png": "[encoded data removed]"
     },
     "metadata": {},
     "output_type": "display_data"
    },
    {
     "data": {
      "text/plain": "Textarea(value='', description='Blood pressure:', placeholder='Blood pressure')",
      "application/vnd.jupyter.widget-view+json": {
       "version_major": 2,
       "version_minor": 0,
       "model_id": "fad82ed168684f789b0fa77f3c2beb29"
      }
     },
     "metadata": {},
     "output_type": "display_data"
    },
    {
     "data": {
      "text/plain": "Textarea(value='', description='Heart rate:', placeholder='Heart rate')",
      "application/vnd.jupyter.widget-view+json": {
       "version_major": 2,
       "version_minor": 0,
       "model_id": "15a4f7015507495a83dd90a84a954400"
      }
     },
     "metadata": {},
     "output_type": "display_data"
    }
   ],
   "source": [
    "if i >= len(images):\n",
    "    print(\"Done!\")\n",
    "    exit()\n",
    "time.sleep(5)\n",
    "if blood_pressure is not None:\n",
    "    blood_pressures.append(blood_pressure.value)\n",
    "if heart_rate is not None:\n",
    "    heart_rates.append(heart_rate.value)\n",
    "\n",
    "fig, ax = plt.subplots()\n",
    "ax.imshow(images[i], cmap=\"gray\")\n",
    "#ax.set_title(labels[i])\n",
    "ax.axis(\"off\")\n",
    "plt.show()\n",
    "\n",
    "blood_pressure = widgets.Textarea(\n",
    "    value='',\n",
    "    placeholder='Blood pressure',\n",
    "    description='Blood pressure:',\n",
    "    disabled=False\n",
    ")\n",
    "# show input for heart rate\n",
    "heart_rate = widgets.Textarea(\n",
    "    value='',\n",
    "    placeholder='Heart rate',\n",
    "    description='Heart rate:',\n",
    "    disabled=False\n",
    ")\n",
    "\n",
    "time.sleep(4)\n",
    "display(blood_pressure)\n",
    "display(heart_rate)\n",
    "i += 1\n",
    "\n",
    "\n",
    "\n",
    "\n",
    "\n"
   ]
  },
  {
   "cell_type": "code",
   "execution_count": 7,
   "id": "408ba1c9f1cef809",
   "metadata": {
    "ExecuteTime": {
     "end_time": "2023-10-20T11:51:12.959479Z",
     "start_time": "2023-10-20T11:51:12.948874Z"
    },
    "collapsed": false
   },
   "outputs": [
    {
     "name": "stdout",
     "output_type": "stream",
     "text": [
      "['23', '2']\n",
      "['34', '43']\n"
     ]
    }
   ],
   "source": [
    "\n",
    "\n",
    "\n",
    "\n",
    "\n",
    "\n",
    "\n",
    "\n",
    "\n",
    "print(heart_rates)\n",
    "print(blood_pressures)"
   ]
  },
  {
   "cell_type": "code",
   "execution_count": 8,
   "id": "2a7ce0c550309d1b",
   "metadata": {
    "ExecuteTime": {
     "end_time": "2023-10-20T11:52:02.703250Z",
     "start_time": "2023-10-20T11:52:02.692142Z"
    },
    "collapsed": false
   },
   "outputs": [],
   "source": [
    "data = pd.DataFrame({\"label\": labels[:len(blood_pressures)], \"blood_pressure\": blood_pressures, \"heart_rate\": heart_rates})\n",
    "data.to_csv(\"data.csv\", index=False)"
   ]
  },
  {
   "cell_type": "code",
   "execution_count": null,
   "id": "992a80bd16e9c1f6",
   "metadata": {
    "collapsed": false
   },
   "outputs": [],
   "source": []
  }
 ],
 "metadata": {
  "kernelspec": {
   "display_name": "Python 3 (ipykernel)",
   "language": "python",
   "name": "python3"
  },
  "language_info": {
   "codemirror_mode": {
    "name": "ipython",
    "version": 3
   },
   "file_extension": ".py",
   "mimetype": "text/x-python",
   "name": "python",
   "nbconvert_exporter": "python",
   "pygments_lexer": "ipython3",
   "version": "3.10.12"
  }
 },
 "nbformat": 4,
 "nbformat_minor": 5
}
